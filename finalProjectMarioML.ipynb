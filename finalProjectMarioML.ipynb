{
  "nbformat": 4,
  "nbformat_minor": 0,
  "metadata": {
    "colab": {
      "provenance": []
    },
    "kernelspec": {
      "name": "python3",
      "display_name": "Python 3"
    },
    "language_info": {
      "name": "python"
    }
  },
  "cells": [
    {
      "cell_type": "markdown",
      "source": [
        "this is text  "
      ],
      "metadata": {
        "id": "-WW64PKRkO3D"
      }
    },
    {
      "cell_type": "code",
      "execution_count": 1,
      "metadata": {
        "colab": {
          "base_uri": "https://localhost:8080/"
        },
        "id": "FcKEOtNUkOWL",
        "outputId": "a6aa2176-69e9-4bc5-d541-5e2191bdea49"
      },
      "outputs": [
        {
          "output_type": "stream",
          "name": "stdout",
          "text": [
            "itsa me luigi\n"
          ]
        }
      ],
      "source": [
        "print(\"itsa me luigi\")"
      ]
    }
  ]
}