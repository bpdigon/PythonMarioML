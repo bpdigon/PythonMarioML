{
 "cells": [
  {
   "cell_type": "markdown",
   "metadata": {
    "id": "-WW64PKRkO3D"
   },
   "source": [
    "Setup:\n",
    "\n",
    "In order to run the code the Python Package gym_super_mario_bros must be installed.\n",
    "If using the local version of Jupyter Notebook use the command:\n",
    "\n",
    "pip install gym_super_mario_bros \n",
    "\n",
    "Otherwise uncomment the code block\n",
    "import sys\n",
    "!{sys.executable} -m pip install numpy\n",
    "\n"
   ]
  },
  {
   "cell_type": "markdown",
   "metadata": {},
   "source": [
    "Import the required packages"
   ]
  },
  {
   "cell_type": "code",
   "execution_count": 7,
   "metadata": {
    "colab": {
     "base_uri": "https://localhost:8080/"
    },
    "id": "FcKEOtNUkOWL",
    "outputId": "a6aa2176-69e9-4bc5-d541-5e2191bdea49"
   },
   "outputs": [
    {
     "name": "stdout",
     "output_type": "stream",
     "text": [
      "(240, 256, 3)\n",
      "256\n"
     ]
    }
   ],
   "source": [
    "#Used to import, uncomment if there is an issue with running the Python Packaage.\n",
    "#import sys\n",
    "#!{sys.executable} -m pip install gym_super_mario_bros\n",
    "\n",
    "import gym_super_mario_bros\n",
    "\n",
    "env = gym_super_mario_bros.make('SuperMarioBros-1-1-v0')\n",
    "print(env.observation_space.shape)  # Dimensions of a frame\n",
    "print(env.action_space.n)  # Number of actions our agent can take"
   ]
  },
  {
   "cell_type": "markdown",
   "metadata": {},
   "source": [
    "Define the methods necessary for agents, movement, and support"
   ]
  },
  {
   "cell_type": "code",
   "execution_count": null,
   "metadata": {},
   "outputs": [],
   "source": [
    "#code"
   ]
  },
  {
   "cell_type": "markdown",
   "metadata": {},
   "source": [
    "Algorithm for Q Learning"
   ]
  },
  {
   "cell_type": "code",
   "execution_count": null,
   "metadata": {},
   "outputs": [],
   "source": [
    "#code"
   ]
  },
  {
   "cell_type": "markdown",
   "metadata": {},
   "source": [
    "Rendering and visualization of results"
   ]
  },
  {
   "cell_type": "code",
   "execution_count": null,
   "metadata": {},
   "outputs": [],
   "source": [
    "#code"
   ]
  },
  {
   "cell_type": "code",
   "execution_count": null,
   "metadata": {},
   "outputs": [],
   "source": [
    "Summary"
   ]
  },
  {
   "cell_type": "code",
   "execution_count": null,
   "metadata": {},
   "outputs": [],
   "source": [
    "#code"
   ]
  }
 ],
 "metadata": {
  "colab": {
   "provenance": []
  },
  "kernelspec": {
   "display_name": "Python 3 (ipykernel)",
   "language": "python",
   "name": "python3"
  },
  "language_info": {
   "codemirror_mode": {
    "name": "ipython",
    "version": 3
   },
   "file_extension": ".py",
   "mimetype": "text/x-python",
   "name": "python",
   "nbconvert_exporter": "python",
   "pygments_lexer": "ipython3",
   "version": "3.11.0"
  }
 },
 "nbformat": 4,
 "nbformat_minor": 4
}
